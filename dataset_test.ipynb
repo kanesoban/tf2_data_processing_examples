{
 "cells": [
  {
   "cell_type": "code",
   "execution_count": 2,
   "metadata": {},
   "outputs": [],
   "source": [
    "from __future__ import absolute_import, division, print_function, unicode_literals\n",
    "\n",
    "import tensorflow as tf\n",
    "#tf.enable_eager_execution()\n",
    "# Is this eager mode ?\n",
    "tf.executing_eagerly()\n",
    "assert(tf.__version__ == '2.0.0')\n",
    "\n",
    "import os\n",
    "from os import listdir\n",
    "from os.path import join\n",
    "import pathlib\n",
    "import matplotlib.pyplot as plt\n",
    "import nibabel as nib\n",
    "import numpy as np"
   ]
  },
  {
   "cell_type": "code",
   "execution_count": 3,
   "metadata": {},
   "outputs": [],
   "source": [
    "DATASET_ROOT = '/home/cszsolnai/datasets/MICCAI_BraTS_2018_Data_Training'\n",
    "HGG = join(DATASET_ROOT, 'HGG')\n",
    "LGG = join(DATASET_ROOT, 'LGG')\n",
    "\n",
    "# Slice can be from 0 to 154\n",
    "SLICE = 80 "
   ]
  },
  {
   "cell_type": "code",
   "execution_count": 4,
   "metadata": {},
   "outputs": [],
   "source": [
    "root = pathlib.Path(HGG)"
   ]
  },
  {
   "cell_type": "code",
   "execution_count": 11,
   "metadata": {},
   "outputs": [],
   "source": [
    "t1ce = sorted([str(e) for e in root.glob(\"*/*t1ce.nii.gz\")])\n",
    "seg = sorted([str(e) for e in root.glob(\"*/*seg.nii.gz\")])"
   ]
  },
  {
   "cell_type": "code",
   "execution_count": 21,
   "metadata": {},
   "outputs": [],
   "source": [
    "t1ce_ds = tf.data.Dataset.list_files(str(root/'*/*t1ce.nii.gz'), shuffle=False)\n",
    "seg_ds = tf.data.Dataset.list_files(str(root/'*/*seg.nii.gz'), shuffle=False)\n",
    "#t1ce_ds = tf.data.TextLineDataset(t1ce)\n",
    "#seg_ds = tf.data.TextLineDataset(seg)"
   ]
  },
  {
   "cell_type": "code",
   "execution_count": 22,
   "metadata": {},
   "outputs": [],
   "source": [
    "def get_brain_slice(path):\n",
    "    #return tf.io.read_file(path)\n",
    "    return nib.load(path.numpy()).get_data()[:, :, SLICE]"
   ]
  },
  {
   "cell_type": "code",
   "execution_count": 39,
   "metadata": {},
   "outputs": [],
   "source": [
    "def preprocess_batch(batch):\n",
    "    # No actual preprocessing, just open the file\n",
    "    b = []\n",
    "    for e in batch:\n",
    "        b.append(nib.load(e.numpy().decode()).get_data()[:, :, SLICE])\n",
    "    return b"
   ]
  },
  {
   "cell_type": "code",
   "execution_count": 40,
   "metadata": {},
   "outputs": [],
   "source": [
    "#labeled_ds = tf.data.Dataset.zip((t1ce_ds.map(get_brain_slice), seg_ds.map(get_brain_slice)))\n",
    "labeled_ds = tf.data.Dataset.zip((t1ce_ds, seg_ds))"
   ]
  },
  {
   "cell_type": "code",
   "execution_count": 41,
   "metadata": {},
   "outputs": [],
   "source": [
    "dataset = labeled_ds.shuffle(buffer_size=100).batch(5)"
   ]
  },
  {
   "cell_type": "code",
   "execution_count": 42,
   "metadata": {},
   "outputs": [],
   "source": [
    "l1 = []\n",
    "l2 = []\n",
    "for data, label in dataset.take(1):\n",
    "    l1.append(preprocess_batch(data))\n",
    "    l2.append(preprocess_batch(label))"
   ]
  },
  {
   "cell_type": "code",
   "execution_count": null,
   "metadata": {},
   "outputs": [],
   "source": []
  }
 ],
 "metadata": {
  "kernelspec": {
   "display_name": "Python 3",
   "language": "python",
   "name": "python3"
  },
  "language_info": {
   "codemirror_mode": {
    "name": "ipython",
    "version": 3
   },
   "file_extension": ".py",
   "mimetype": "text/x-python",
   "name": "python",
   "nbconvert_exporter": "python",
   "pygments_lexer": "ipython3",
   "version": "3.6.7"
  }
 },
 "nbformat": 4,
 "nbformat_minor": 2
}
